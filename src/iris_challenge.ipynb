{
 "cells": [
  {
   "cell_type": "code",
   "id": "f67f0498c6804bc2",
   "metadata": {
    "ExecuteTime": {
     "end_time": "2024-11-29T14:40:27.866934Z",
     "start_time": "2024-11-29T14:40:25.161651Z"
    }
   },
   "source": [
    "import torch\n",
    "from opendataval.dataloader import DataFetcher\n",
    "from opendataval.experiment import save_dataval, ExperimentMediator\n",
    "\n",
    "from src.baseline.MLP_hyperparameters import CLASSIFIER_MLP_HYPERPARAMETERS, CLASSIFIER_LEARNING_RATE, \\\n",
    "    CLASSIFIER_BATCH_SIZE\n",
    "from src.LossVal.LossVal_MLP import LossVal_MLP\n",
    "from src.LossVal.LossVal_evaluator import LossVal_Evaluator"
   ],
   "outputs": [
    {
     "name": "stdout",
     "output_type": "stream",
     "text": [
      "[KeOps] Warning : Cuda libraries were not detected on the system ; using cpu only mode\n"
     ]
    }
   ],
   "execution_count": 1
  },
  {
   "metadata": {
    "collapsed": true,
    "ExecuteTime": {
     "end_time": "2024-11-29T14:40:28.289500Z",
     "start_time": "2024-11-29T14:40:27.869934Z"
    }
   },
   "cell_type": "code",
   "source": [
    "data_fetcher = DataFetcher(\"challenge-iris\", cache_dir=\"./../data_files/\")\n",
    "LossVal_evaluator = LossVal_Evaluator(device=torch.device(\"cuda\"), nr_epochs=30, loss_function=\"Weighted CE loss with squared Sinkhorn\")\n",
    "\n",
    "# Simplify the name for the leaderboard:\n",
    "LossVal_evaluator.__repr__ = lambda: \"LossVal\"\n"
   ],
   "id": "initial_id",
   "outputs": [],
   "execution_count": 2
  },
  {
   "metadata": {
    "ExecuteTime": {
     "end_time": "2024-11-29T14:40:28.398867Z",
     "start_time": "2024-11-29T14:40:28.395866Z"
    }
   },
   "cell_type": "code",
   "source": [
    "NR_LAYERS = CLASSIFIER_MLP_HYPERPARAMETERS[\"layers\"]\n",
    "HIDDEN_DIM = CLASSIFIER_MLP_HYPERPARAMETERS[\"hidden_dim\"]\n",
    "ACTIVATION_FN = torch.nn.ReLU()\n",
    "\n",
    "TRAIN_ARGS = {\n",
    "    \"batch_size\": CLASSIFIER_BATCH_SIZE,\n",
    "    \"lr\": CLASSIFIER_LEARNING_RATE,\n",
    "    \"epochs\": 30\n",
    "}"
   ],
   "id": "4a3fa998a53cca91",
   "outputs": [],
   "execution_count": 3
  },
  {
   "metadata": {
    "ExecuteTime": {
     "end_time": "2024-11-29T14:40:28.407310Z",
     "start_time": "2024-11-29T14:40:28.404025Z"
    }
   },
   "cell_type": "code",
   "source": [
    "# Prepare the model and the experiment:\n",
    "model = LossVal_MLP(\n",
    "    is_classification=True,\n",
    "    layers=NR_LAYERS,\n",
    "    hidden_dim=HIDDEN_DIM,\n",
    "    act_fn=ACTIVATION_FN,\n",
    "    input_dim=data_fetcher.covar_dim[0],\n",
    "    output_dim=data_fetcher.label_dim[0],\n",
    "    training_set_size=len(data_fetcher.x_train)\n",
    ")\n",
    "\n",
    "exper_med = ExperimentMediator(data_fetcher, model, metric_name=\"accuracy\", train_kwargs=TRAIN_ARGS, output_dir=\"./../results/iris_challenge/\")\n",
    "evaluators = [LossVal_evaluator]"
   ],
   "id": "88b941900835a48c",
   "outputs": [],
   "execution_count": 4
  },
  {
   "metadata": {
    "ExecuteTime": {
     "end_time": "2024-11-29T14:40:29.125332Z",
     "start_time": "2024-11-29T14:40:28.413193Z"
    }
   },
   "cell_type": "code",
   "source": [
    "result_df = exper_med.compute_data_values(evaluators).evaluate(save_dataval, save_output=True)\n",
    "result_df"
   ],
   "id": "dd2bfe231df6e3a8",
   "outputs": [
    {
     "name": "stdout",
     "output_type": "stream",
     "text": [
      "Elapsed time LossVal: 0:00:00.700959\n"
     ]
    },
    {
     "data": {
      "text/plain": [
       "        indices data_values\n",
       "LossVal       0   -1.471044\n",
       "LossVal       1   -1.542577\n",
       "LossVal       2   -1.200364\n",
       "LossVal       3   -1.471352\n",
       "LossVal       4   -1.200375\n",
       "...         ...         ...\n",
       "LossVal     100   -1.542452\n",
       "LossVal     101     -1.5426\n",
       "LossVal     102   -1.471227\n",
       "LossVal     103   -1.200361\n",
       "LossVal     104   -1.200472\n",
       "\n",
       "[105 rows x 2 columns]"
      ],
      "text/html": [
       "<div>\n",
       "<style scoped>\n",
       "    .dataframe tbody tr th:only-of-type {\n",
       "        vertical-align: middle;\n",
       "    }\n",
       "\n",
       "    .dataframe tbody tr th {\n",
       "        vertical-align: top;\n",
       "    }\n",
       "\n",
       "    .dataframe thead th {\n",
       "        text-align: right;\n",
       "    }\n",
       "</style>\n",
       "<table border=\"1\" class=\"dataframe\">\n",
       "  <thead>\n",
       "    <tr style=\"text-align: right;\">\n",
       "      <th></th>\n",
       "      <th>indices</th>\n",
       "      <th>data_values</th>\n",
       "    </tr>\n",
       "  </thead>\n",
       "  <tbody>\n",
       "    <tr>\n",
       "      <th>LossVal</th>\n",
       "      <td>0</td>\n",
       "      <td>-1.471044</td>\n",
       "    </tr>\n",
       "    <tr>\n",
       "      <th>LossVal</th>\n",
       "      <td>1</td>\n",
       "      <td>-1.542577</td>\n",
       "    </tr>\n",
       "    <tr>\n",
       "      <th>LossVal</th>\n",
       "      <td>2</td>\n",
       "      <td>-1.200364</td>\n",
       "    </tr>\n",
       "    <tr>\n",
       "      <th>LossVal</th>\n",
       "      <td>3</td>\n",
       "      <td>-1.471352</td>\n",
       "    </tr>\n",
       "    <tr>\n",
       "      <th>LossVal</th>\n",
       "      <td>4</td>\n",
       "      <td>-1.200375</td>\n",
       "    </tr>\n",
       "    <tr>\n",
       "      <th>...</th>\n",
       "      <td>...</td>\n",
       "      <td>...</td>\n",
       "    </tr>\n",
       "    <tr>\n",
       "      <th>LossVal</th>\n",
       "      <td>100</td>\n",
       "      <td>-1.542452</td>\n",
       "    </tr>\n",
       "    <tr>\n",
       "      <th>LossVal</th>\n",
       "      <td>101</td>\n",
       "      <td>-1.5426</td>\n",
       "    </tr>\n",
       "    <tr>\n",
       "      <th>LossVal</th>\n",
       "      <td>102</td>\n",
       "      <td>-1.471227</td>\n",
       "    </tr>\n",
       "    <tr>\n",
       "      <th>LossVal</th>\n",
       "      <td>103</td>\n",
       "      <td>-1.200361</td>\n",
       "    </tr>\n",
       "    <tr>\n",
       "      <th>LossVal</th>\n",
       "      <td>104</td>\n",
       "      <td>-1.200472</td>\n",
       "    </tr>\n",
       "  </tbody>\n",
       "</table>\n",
       "<p>105 rows × 2 columns</p>\n",
       "</div>"
      ]
     },
     "execution_count": 5,
     "metadata": {},
     "output_type": "execute_result"
    }
   ],
   "execution_count": 5
  }
 ],
 "metadata": {
  "kernelspec": {
   "display_name": "Python 3",
   "language": "python",
   "name": "python3"
  },
  "language_info": {
   "codemirror_mode": {
    "name": "ipython",
    "version": 2
   },
   "file_extension": ".py",
   "mimetype": "text/x-python",
   "name": "python",
   "nbconvert_exporter": "python",
   "pygments_lexer": "ipython2",
   "version": "2.7.6"
  }
 },
 "nbformat": 4,
 "nbformat_minor": 5
}
