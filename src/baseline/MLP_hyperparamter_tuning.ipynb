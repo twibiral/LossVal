{
 "cells": [
  {
   "metadata": {},
   "cell_type": "markdown",
   "source": "# Some minimal hyperparameter tuning to find an MLP model that perfroms well on all the datasets used",
   "id": "121895200fbc1789"
  },
  {
   "cell_type": "code",
   "id": "initial_id",
   "metadata": {
    "collapsed": true,
    "ExecuteTime": {
     "end_time": "2024-09-15T21:21:35.986609Z",
     "start_time": "2024-09-15T21:21:30.839110Z"
    }
   },
   "source": [
    "import itertools\n",
    "import os\n",
    "\n",
    "import numpy as np\n",
    "import pandas as pd\n",
    "import torch\n",
    "from opendataval.dataloader import DataFetcher\n",
    "from opendataval.model import ClassifierMLP, RegressionMLP\n",
    "from torch import nn\n",
    "from tqdm import tqdm\n",
    "\n",
    "from src.baseline.run_baselines_classification import DATA_DIR\n",
    "from src.LossVal.run_LossVal import REGRESSION_DATASETS, CLASSIFICATION_DATASETS"
   ],
   "outputs": [
    {
     "name": "stdout",
     "output_type": "stream",
     "text": [
      "[KeOps] Warning : Cuda libraries were not detected on the system ; using cpu only mode\n"
     ]
    }
   ],
   "execution_count": 1
  },
  {
   "metadata": {
    "ExecuteTime": {
     "end_time": "2024-09-15T21:24:11.483055Z",
     "start_time": "2024-09-15T21:24:11.479554Z"
    }
   },
   "cell_type": "code",
   "source": [
    "# Define search space:\n",
    "NUMBER_OF_HIDDEN_LAYERS = list(range(1, 6))     # 1, 2, 3, 4, 5\n",
    "HIDDEN_LAYER_SIZE = list(range(10, 101, 10))    # 10, 20, 30, ..., 100\n",
    "LEARNING_RATE = [0.001, 0.01, 0.1]\n",
    "BATCH_SIZE = [32, 64, 128]\n",
    "INNER_ACTIVATION_FUNCTION = [nn.ReLU(), nn.Tanh(), nn.Sigmoid()]\n",
    "\n",
    "# Fixed hyperparameters:\n",
    "EPOCHS = 5\n",
    "DATASET_SIZE = 1000     # Number of samples to use from each dataset (as defined in the OpenDataVal paper)\n",
    "DEVICE = 'cuda' if torch.cuda.is_available() else 'cpu'\n",
    "NR_REPETITIONS = 3\n",
    "RESULTS_DIR = os.path.join(os.path.abspath(\"../../results/hyperparameter_tuning/\"))\n",
    "\n",
    "print(\"Device:\", DEVICE)"
   ],
   "id": "281943a2615348c5",
   "outputs": [
    {
     "name": "stdout",
     "output_type": "stream",
     "text": [
      "Device: cuda\n"
     ]
    }
   ],
   "execution_count": 4
  },
  {
   "metadata": {
    "ExecuteTime": {
     "end_time": "2024-09-02T14:44:01.749893Z",
     "start_time": "2024-09-02T14:44:01.746391Z"
    }
   },
   "cell_type": "code",
   "source": [
    "def r2_score(y_true, y_pred):\n",
    "    # Ensure the tensors are of the same shape\n",
    "    y_true = y_true.flatten()\n",
    "    y_pred = y_pred.flatten()\n",
    "    \n",
    "    # Calculate the residual sum of squares (SS_res)\n",
    "    ss_res = torch.sum((y_true - y_pred) ** 2)\n",
    "    \n",
    "    # Calculate the total sum of squares (SS_tot)\n",
    "    y_true_mean = torch.mean(y_true)\n",
    "    ss_tot = torch.sum((y_true - y_true_mean) ** 2)\n",
    "    \n",
    "    # Calculate R2 score\n",
    "    r2 = 1 - ss_res / ss_tot\n",
    "    \n",
    "    return r2.item()\n",
    "\n",
    "def accuracy(y_true, y_pred):\n",
    "    # Ensure the tensors are of the same shape\n",
    "    y_true = y_true.flatten()\n",
    "    y_pred = y_pred.flatten()\n",
    "    \n",
    "    # Calculate the accuracy\n",
    "    acc = torch.sum(y_true == y_pred) / len(y_true)\n",
    "    \n",
    "    return acc.item()"
   ],
   "id": "1e85f9a7d7d3f901",
   "outputs": [],
   "execution_count": 3
  },
  {
   "metadata": {
    "ExecuteTime": {
     "end_time": "2024-09-02T14:44:01.762394Z",
     "start_time": "2024-09-02T14:44:01.756394Z"
    }
   },
   "cell_type": "code",
   "source": [
    "def build_and_evaluate_MLP(nr_hidden_layers, hidden_layer_size, learning_rate, batch_size, activation_function):\n",
    "    # == Classification datasets ==\n",
    "    accuracy_hist = []\n",
    "    for dataset in CLASSIFICATION_DATASETS:\n",
    "        # Load data\n",
    "        fetcher = DataFetcher(dataset_name=dataset, cache_dir=DATA_DIR, force_download=False)\n",
    "        fetcher = fetcher.split_dataset_by_count(1000, 0, 500)    # Use 1000 samples for training and 500 for testing\n",
    "        x_trn, y_trn, _, _, x_test, y_test = fetcher.datapoints\n",
    "        x_trn, x_test, y_trn, y_test = x_trn.to(DEVICE), x_test.to(DEVICE), y_trn.to(DEVICE), y_test.to(DEVICE)\n",
    "        \n",
    "        for i in range(NR_REPETITIONS):\n",
    "            model = ClassifierMLP(\n",
    "                input_dim=fetcher.covar_dim[0],\n",
    "                num_classes=fetcher.label_dim[0],\n",
    "                hidden_dim=hidden_layer_size,\n",
    "                act_fn=activation_function,\n",
    "                layers=nr_hidden_layers\n",
    "            )\n",
    "            model.to(DEVICE)\n",
    "            \n",
    "            # Train model\n",
    "            model.fit(x_trn, y_trn, epochs=EPOCHS, batch_size=batch_size, lr=learning_rate)\n",
    "            # Evaluate model\n",
    "            y_pred = model.predict(x_test)\n",
    "            accuracy_res = accuracy(y_test, y_pred)#.cpu().numpy()\n",
    "            accuracy_hist.append(accuracy_res)\n",
    "            # print(f\"Accuracy on {dataset}: {accuracy_res}\")\n",
    "\n",
    "    # == Regression datasets ==\n",
    "    r2_score_hist = []\n",
    "    for dataset in REGRESSION_DATASETS:\n",
    "        # Load data\n",
    "        fetcher = DataFetcher(dataset_name=dataset, cache_dir=DATA_DIR, force_download=False)\n",
    "        fetcher = fetcher.split_dataset_by_count(1000, 0, 500)    # Use 1000 samples for training and 500 for testing\n",
    "        x_trn, y_trn, _, _, x_test, y_test = fetcher.datapoints\n",
    "        x_trn, x_test, y_trn, y_test = x_trn.to(DEVICE), x_test.to(DEVICE), y_trn.to(DEVICE), y_test.to(DEVICE)\n",
    "        \n",
    "        for i in range(NR_REPETITIONS):\n",
    "            model = RegressionMLP(\n",
    "                input_dim=fetcher.covar_dim[0],\n",
    "                num_classes=fetcher.label_dim[0],\n",
    "                hidden_dim=hidden_layer_size,\n",
    "                act_fn=activation_function,    \n",
    "                layers=nr_hidden_layers,\n",
    "            )\n",
    "            model.to(DEVICE)\n",
    "            \n",
    "            # Train model\n",
    "            model.fit(x_trn, y_trn, epochs=EPOCHS, batch_size=batch_size, lr=learning_rate)\n",
    "            # Evaluate model on test data\n",
    "            y_pred = model.predict(x_test)\n",
    "            r2_score_res = r2_score(y_test, y_pred)#.cpu().numpy()\n",
    "            r2_score_hist.append(r2_score_res)\n",
    "            # print(f\"R2 score on {dataset}: {r2_score_res}\")\n",
    "    \n",
    "    average_accuracy = np.mean(accuracy_hist)\n",
    "    average_r2_score = np.mean(r2_score_hist)\n",
    "    \n",
    "    # print(f\"Average accuracy: {average_accuracy}\")\n",
    "    # print(f\"Average R2 score: {average_r2_score}\")\n",
    "        \n",
    "    return average_accuracy, average_r2_score "
   ],
   "id": "116b14477f3e6def",
   "outputs": [],
   "execution_count": 4
  },
  {
   "metadata": {
    "ExecuteTime": {
     "end_time": "2024-09-02T14:44:01.863393Z",
     "start_time": "2024-09-02T14:44:01.769890Z"
    }
   },
   "cell_type": "code",
   "source": [
    "# All configurations as list of tuples to try for hyperparameter tuning:\n",
    "all_configs = list(itertools.product(NUMBER_OF_HIDDEN_LAYERS, HIDDEN_LAYER_SIZE, LEARNING_RATE, BATCH_SIZE, INNER_ACTIVATION_FUNCTION))\n",
    "\n",
    "print(\"Number of configurations to try:\", len(list(all_configs)))"
   ],
   "id": "d1ac02f89448d712",
   "outputs": [
    {
     "name": "stdout",
     "output_type": "stream",
     "text": [
      "Number of configurations to try: 1350\n"
     ]
    }
   ],
   "execution_count": 5
  },
  {
   "metadata": {
    "ExecuteTime": {
     "end_time": "2024-09-02T17:15:46.978270Z",
     "start_time": "2024-09-02T14:44:01.941147Z"
    }
   },
   "cell_type": "code",
   "source": [
    "# Hyperparameter tuning\n",
    "results = []\n",
    "for config in tqdm(all_configs):\n",
    "    average_accuracy, average_r2_score = build_and_evaluate_MLP(*config)\n",
    "    results.append((config, average_accuracy, average_r2_score))"
   ],
   "id": "63469e43c1cc4bd7",
   "outputs": [
    {
     "name": "stderr",
     "output_type": "stream",
     "text": [
      "100%|██████████| 1350/1350 [2:31:45<00:00,  6.74s/it] \n"
     ]
    }
   ],
   "execution_count": 6
  },
  {
   "metadata": {
    "ExecuteTime": {
     "end_time": "2024-09-02T17:15:46.994267Z",
     "start_time": "2024-09-02T17:15:46.985769Z"
    }
   },
   "cell_type": "code",
   "source": [
    "result_list_to_dataframe = pd.DataFrame(results, columns=['config', 'accuracy', 'r2_score'])\n",
    "result_list_to_dataframe.to_csv(RESULTS_DIR + 'hyperparameters_for_opendataval.csv', index=False)"
   ],
   "id": "8a51692fa1aa2a59",
   "outputs": [],
   "execution_count": 7
  },
  {
   "metadata": {
    "ExecuteTime": {
     "end_time": "2024-09-15T23:27:37.484745Z",
     "start_time": "2024-09-15T23:27:37.480247Z"
    }
   },
   "cell_type": "code",
   "source": "result_list_to_dataframe = pd.read_csv(RESULTS_DIR + '/hyperparameters_for_opendataval.csv')",
   "id": "88e3f1ebd066134c",
   "outputs": [],
   "execution_count": 51
  },
  {
   "metadata": {
    "ExecuteTime": {
     "end_time": "2024-09-15T23:28:07.540822Z",
     "start_time": "2024-09-15T23:28:07.537320Z"
    }
   },
   "cell_type": "code",
   "source": "best_acc = best_acc.sort_values([\"accuracy\", \"r2_score\"], ascending=False)[:200]",
   "id": "71470488ab1373a7",
   "outputs": [],
   "execution_count": 57
  },
  {
   "metadata": {
    "ExecuteTime": {
     "end_time": "2024-09-15T23:28:08.468819Z",
     "start_time": "2024-09-15T23:28:08.464319Z"
    }
   },
   "cell_type": "code",
   "source": "best_r2 = result_list_to_dataframe.sort_values([\"r2_score\", \"accuracy\"], ascending=False)[:200]",
   "id": "b394e113c1614f0",
   "outputs": [],
   "execution_count": 58
  },
  {
   "metadata": {
    "ExecuteTime": {
     "end_time": "2024-09-15T23:28:12.813348Z",
     "start_time": "2024-09-15T23:28:12.807347Z"
    }
   },
   "cell_type": "code",
   "source": [
    "print(\"Best configurations by accuracy:\")\n",
    "best_acc.head(5)"
   ],
   "id": "4dd6f91e8e2f5583",
   "outputs": [
    {
     "name": "stdout",
     "output_type": "stream",
     "text": [
      "Best configurations by accuracy:\n"
     ]
    },
    {
     "data": {
      "text/plain": [
       "                             config  accuracy  r2_score\n",
       "801   [3,  100,  0.1,  32,  ReLU()]  0.453778  0.276318\n",
       "804   [3,  100,  0.1,  64,  ReLU()]  0.446167  0.337212\n",
       "777    [3,  90,  0.1,  64,  ReLU()]  0.423778  0.331787\n",
       "747    [3,  80,  0.1,  32,  ReLU()]  0.419056  0.338990\n",
       "807  [3,  100,  0.1,  128,  ReLU()]  0.377278 -0.678049"
      ],
      "text/html": [
       "<div>\n",
       "<style scoped>\n",
       "    .dataframe tbody tr th:only-of-type {\n",
       "        vertical-align: middle;\n",
       "    }\n",
       "\n",
       "    .dataframe tbody tr th {\n",
       "        vertical-align: top;\n",
       "    }\n",
       "\n",
       "    .dataframe thead th {\n",
       "        text-align: right;\n",
       "    }\n",
       "</style>\n",
       "<table border=\"1\" class=\"dataframe\">\n",
       "  <thead>\n",
       "    <tr style=\"text-align: right;\">\n",
       "      <th></th>\n",
       "      <th>config</th>\n",
       "      <th>accuracy</th>\n",
       "      <th>r2_score</th>\n",
       "    </tr>\n",
       "  </thead>\n",
       "  <tbody>\n",
       "    <tr>\n",
       "      <th>801</th>\n",
       "      <td>[3,  100,  0.1,  32,  ReLU()]</td>\n",
       "      <td>0.453778</td>\n",
       "      <td>0.276318</td>\n",
       "    </tr>\n",
       "    <tr>\n",
       "      <th>804</th>\n",
       "      <td>[3,  100,  0.1,  64,  ReLU()]</td>\n",
       "      <td>0.446167</td>\n",
       "      <td>0.337212</td>\n",
       "    </tr>\n",
       "    <tr>\n",
       "      <th>777</th>\n",
       "      <td>[3,  90,  0.1,  64,  ReLU()]</td>\n",
       "      <td>0.423778</td>\n",
       "      <td>0.331787</td>\n",
       "    </tr>\n",
       "    <tr>\n",
       "      <th>747</th>\n",
       "      <td>[3,  80,  0.1,  32,  ReLU()]</td>\n",
       "      <td>0.419056</td>\n",
       "      <td>0.338990</td>\n",
       "    </tr>\n",
       "    <tr>\n",
       "      <th>807</th>\n",
       "      <td>[3,  100,  0.1,  128,  ReLU()]</td>\n",
       "      <td>0.377278</td>\n",
       "      <td>-0.678049</td>\n",
       "    </tr>\n",
       "  </tbody>\n",
       "</table>\n",
       "</div>"
      ]
     },
     "execution_count": 60,
     "metadata": {},
     "output_type": "execute_result"
    }
   ],
   "execution_count": 60
  },
  {
   "metadata": {
    "ExecuteTime": {
     "end_time": "2024-09-15T23:28:14.048554Z",
     "start_time": "2024-09-15T23:28:14.042554Z"
    }
   },
   "cell_type": "code",
   "source": [
    "print(\"Best configurations by R2 score:\")\n",
    "best_r2.head(5)"
   ],
   "id": "6b4dd392d5917fce",
   "outputs": [
    {
     "name": "stdout",
     "output_type": "stream",
     "text": [
      "Best configurations by R2 score:\n"
     ]
    },
    {
     "data": {
      "text/plain": [
       "                         config  accuracy  r2_score\n",
       "604   (3, 30, 0.01, 32, Tanh())       0.0  0.698484\n",
       "796  (3, 100, 0.01, 64, Tanh())       0.0  0.690445\n",
       "685   (3, 60, 0.01, 32, Tanh())       0.0  0.690138\n",
       "577   (3, 20, 0.01, 32, Tanh())       0.0  0.685090\n",
       "739   (3, 80, 0.01, 32, Tanh())       0.0  0.684571"
      ],
      "text/html": [
       "<div>\n",
       "<style scoped>\n",
       "    .dataframe tbody tr th:only-of-type {\n",
       "        vertical-align: middle;\n",
       "    }\n",
       "\n",
       "    .dataframe tbody tr th {\n",
       "        vertical-align: top;\n",
       "    }\n",
       "\n",
       "    .dataframe thead th {\n",
       "        text-align: right;\n",
       "    }\n",
       "</style>\n",
       "<table border=\"1\" class=\"dataframe\">\n",
       "  <thead>\n",
       "    <tr style=\"text-align: right;\">\n",
       "      <th></th>\n",
       "      <th>config</th>\n",
       "      <th>accuracy</th>\n",
       "      <th>r2_score</th>\n",
       "    </tr>\n",
       "  </thead>\n",
       "  <tbody>\n",
       "    <tr>\n",
       "      <th>604</th>\n",
       "      <td>(3, 30, 0.01, 32, Tanh())</td>\n",
       "      <td>0.0</td>\n",
       "      <td>0.698484</td>\n",
       "    </tr>\n",
       "    <tr>\n",
       "      <th>796</th>\n",
       "      <td>(3, 100, 0.01, 64, Tanh())</td>\n",
       "      <td>0.0</td>\n",
       "      <td>0.690445</td>\n",
       "    </tr>\n",
       "    <tr>\n",
       "      <th>685</th>\n",
       "      <td>(3, 60, 0.01, 32, Tanh())</td>\n",
       "      <td>0.0</td>\n",
       "      <td>0.690138</td>\n",
       "    </tr>\n",
       "    <tr>\n",
       "      <th>577</th>\n",
       "      <td>(3, 20, 0.01, 32, Tanh())</td>\n",
       "      <td>0.0</td>\n",
       "      <td>0.685090</td>\n",
       "    </tr>\n",
       "    <tr>\n",
       "      <th>739</th>\n",
       "      <td>(3, 80, 0.01, 32, Tanh())</td>\n",
       "      <td>0.0</td>\n",
       "      <td>0.684571</td>\n",
       "    </tr>\n",
       "  </tbody>\n",
       "</table>\n",
       "</div>"
      ]
     },
     "execution_count": 61,
     "metadata": {},
     "output_type": "execute_result"
    }
   ],
   "execution_count": 61
  },
  {
   "metadata": {},
   "cell_type": "code",
   "outputs": [],
   "execution_count": null,
   "source": "",
   "id": "35a0a62e8cf80d75"
  }
 ],
 "metadata": {
  "kernelspec": {
   "display_name": "Python 3",
   "language": "python",
   "name": "python3"
  },
  "language_info": {
   "codemirror_mode": {
    "name": "ipython",
    "version": 2
   },
   "file_extension": ".py",
   "mimetype": "text/x-python",
   "name": "python",
   "nbconvert_exporter": "python",
   "pygments_lexer": "ipython2",
   "version": "2.7.6"
  }
 },
 "nbformat": 4,
 "nbformat_minor": 5
}
